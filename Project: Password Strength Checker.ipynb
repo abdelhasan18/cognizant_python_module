{
 "cells": [
  {
   "cell_type": "markdown",
   "id": "df4722d1-46df-42c9-a559-c87f8fd6ce18",
   "metadata": {},
   "source": [
    "Step 1: Input the Password\n",
    "Ask the user to input a password. Use the input() function for this.\n",
    "\n",
    "Step 2: Evaluate the Password\n",
    "Check the password for the following:\n",
    "\n",
    "Length: It should be at least 8 characters.\n",
    "Contain at least one uppercase letter, one lowercase letter, one digit, and one special character (like @, #, $).\n",
    "Print appropriate messages for each check:\n",
    "If it passes all checks, print: \"Your password is strong! 💪\"\n",
    "If it fails any check, print a message like: \"Your password needs at least one digit.\"\n",
    "Use Python string methods like isupper(), islower(), isdigit(), and others to perform these checks.\n",
    "\n",
    "Step 3: Test with Different Passwords\n",
    "Here’s how the program should behave:\n",
    "\n",
    "Example Run 1:\n",
    "\n",
    "Enter a password: python123\n",
    "Your password needs at least one uppercase letter and one special character.\n",
    "Example Run 2:\n",
    "\n",
    "Enter a password: Python@123\n",
    "Your password is strong! 💪\n",
    "\n",
    "Bonus Challenge:\n",
    "Add a \"password strength meter\" that gives a score out of 10 based on how strong the password is.\n",
    "\n",
    "Make sure your program is clear, friendly, and fun to use!"
   ]
  },
  {
   "cell_type": "code",
   "execution_count": 6,
   "id": "add6fb4d-bbd6-473b-b185-18c78705c225",
   "metadata": {},
   "outputs": [
    {
     "name": "stdout",
     "output_type": "stream",
     "text": [
      "Hello!\n"
     ]
    },
    {
     "name": "stdin",
     "output_type": "stream",
     "text": [
      "Please input a password: help\n"
     ]
    },
    {
     "name": "stdout",
     "output_type": "stream",
     "text": [
      "Your password needs at least one uppercase letter, one digit and one special character.\n"
     ]
    },
    {
     "name": "stdin",
     "output_type": "stream",
     "text": [
      "Please input a password: help1\n"
     ]
    },
    {
     "name": "stdout",
     "output_type": "stream",
     "text": [
      "Your password needs at least one uppercase letter and one special character.\n"
     ]
    },
    {
     "name": "stdin",
     "output_type": "stream",
     "text": [
      "Please input a password: help1A\n"
     ]
    },
    {
     "name": "stdout",
     "output_type": "stream",
     "text": [
      "Your password needs at least one special character.\n"
     ]
    },
    {
     "name": "stdin",
     "output_type": "stream",
     "text": [
      "Please input a password: help1A@\n"
     ]
    },
    {
     "name": "stdout",
     "output_type": "stream",
     "text": [
      "Your password is strong with a rating of 4!\n"
     ]
    }
   ],
   "source": [
    "print('Hello!')\n",
    "\n",
    "# error message string and conditional bit, will be set to one if present in password\n",
    "check = [['special character', 0],\n",
    "         ['digit', 0],\n",
    "         ['lowercase letter', 0],\n",
    "         ['uppercase letter', 0]]\n",
    "verify = '!@#$%^&*_+-=' # acceptable special characters, in a real context you should worry about users injecting code\n",
    "\n",
    "while True:\n",
    "    password = input('Please input a password:')\n",
    "    for char in password: # set conditional bits\n",
    "        if char in verify:\n",
    "            check[0][1] = 1\n",
    "        if char.isdigit():\n",
    "            check[1][1] = 1\n",
    "        if char.islower():\n",
    "            check[2][1] = 1\n",
    "        if char.isupper():\n",
    "            check[3][1] = 1\n",
    "            \n",
    "    msg = []\n",
    "    \n",
    "    for case in check: # check conditional bits\n",
    "        if not case[1]:\n",
    "            msg.append(case[0])\n",
    "    if len(msg): # will not run if all conditions satisfied\n",
    "        output = 'Your password needs at least one ' + msg.pop()\n",
    "        while True:\n",
    "            if not len(msg):\n",
    "                output += '.'\n",
    "                break\n",
    "            elif len(msg) > 1:\n",
    "                output += ', one ' + msg.pop()\n",
    "            else:\n",
    "                output += ' and one {}.'.format(msg.pop())\n",
    "                break\n",
    "        print(output)\n",
    "    else:\n",
    "        score = int((len(password) / 3) ** 1.8 // 1) # this is just some random function to give strength some exponential curve based on password length\n",
    "        print('Your password is strong with a rating of {}!'.format(min(score, 10)))\n",
    "        break"
   ]
  }
 ],
 "metadata": {
  "kernelspec": {
   "display_name": "cognizant",
   "language": "python",
   "name": "cognizant"
  },
  "language_info": {
   "codemirror_mode": {
    "name": "ipython",
    "version": 3
   },
   "file_extension": ".py",
   "mimetype": "text/x-python",
   "name": "python",
   "nbconvert_exporter": "python",
   "pygments_lexer": "ipython3",
   "version": "3.13.2"
  }
 },
 "nbformat": 4,
 "nbformat_minor": 5
}
