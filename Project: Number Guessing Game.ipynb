{
 "cells": [
  {
   "cell_type": "markdown",
   "id": "e8d03abd-69fd-48c5-9236-3b4bd84b7664",
   "metadata": {},
   "source": [
    "Step 1: Generate a Random Number\n",
    "Use Python’s random module to generate a random number between 1 and 100.\n",
    "\n",
    "import random\n",
    "number_to_guess = random.randint(1, 100)\n",
    "\n",
    "Step 2: Prompt the User for Guesses\n",
    "Use a while loop to let the user keep guessing until they get the correct answer. After each guess:\n",
    "\n",
    "If the guess is too high, print: \"Too high! Try again.\"\n",
    "If the guess is too low, print: \"Too low! Try again.\"\n",
    "If the guess is correct, print: \"Congratulations! You guessed it!\"\n",
    "\n",
    "Step 3: Count the Attempts\n",
    "Keep track of how many guesses the user has made and display the total number of attempts when they win.\n",
    "\n",
    "Example Run:\n",
    "Guess the number (between 1 and 100): 50 Too high! Try again.\n",
    "Guess the number (between 1 and 100): 25 Too low! Try again.\n",
    "Guess the number (between 1 and 100): 37 Congratulations! You guessed it in 3 attempts!\n",
    "\n",
    "Bonus Task:\n",
    "Limit the number of attempts to 10. If the user fails to guess in 10 attempts, end the game with a message like \"Game over! Better luck next time!\"\n",
    "Make your program friendly, interactive, and fun to play! 😊"
   ]
  },
  {
   "cell_type": "code",
   "execution_count": 3,
   "id": "b97a744b-7c48-43d2-9e09-a8068b55013a",
   "metadata": {},
   "outputs": [
    {
     "name": "stdout",
     "output_type": "stream",
     "text": [
      "Hello! I picked a random number between 1 and 100, try to guess it in 10 attempts!\n"
     ]
    },
    {
     "name": "stdin",
     "output_type": "stream",
     "text": [
      "What was my number?  50\n"
     ]
    },
    {
     "name": "stdout",
     "output_type": "stream",
     "text": [
      "Too high! Try again!\n"
     ]
    },
    {
     "name": "stdin",
     "output_type": "stream",
     "text": [
      "What was my number?  25\n"
     ]
    },
    {
     "name": "stdout",
     "output_type": "stream",
     "text": [
      "Too high! Try again!\n"
     ]
    },
    {
     "name": "stdin",
     "output_type": "stream",
     "text": [
      "What was my number?  12\n"
     ]
    },
    {
     "name": "stdout",
     "output_type": "stream",
     "text": [
      "Too low! Try again!\n"
     ]
    },
    {
     "name": "stdin",
     "output_type": "stream",
     "text": [
      "What was my number?  20\n"
     ]
    },
    {
     "name": "stdout",
     "output_type": "stream",
     "text": [
      "Too high! Try again!\n"
     ]
    },
    {
     "name": "stdin",
     "output_type": "stream",
     "text": [
      "What was my number?  16\n"
     ]
    },
    {
     "name": "stdout",
     "output_type": "stream",
     "text": [
      "Too low! Try again!\n"
     ]
    },
    {
     "name": "stdin",
     "output_type": "stream",
     "text": [
      "What was my number?  18\n"
     ]
    },
    {
     "name": "stdout",
     "output_type": "stream",
     "text": [
      "Too high! Try again!\n"
     ]
    },
    {
     "name": "stdin",
     "output_type": "stream",
     "text": [
      "What was my number?  17\n"
     ]
    },
    {
     "name": "stdout",
     "output_type": "stream",
     "text": [
      "Yes! You got it in 7 attempts!\n"
     ]
    }
   ],
   "source": [
    "import random as r\n",
    "ans = r.randint(1,100)\n",
    "attempts = 0\n",
    "plural = 'attempt'\n",
    "\n",
    "# input and error catching, prevents non-numeric string values from causing issues\n",
    "print('Hello! I picked a random number between 1 and 100, try to guess it in 10 attempts!')\n",
    "while 1:\n",
    "    num = input('What was my number? ')\n",
    "    try:\n",
    "        num = int(num)\n",
    "        sentinel = 0 # breaks loop\n",
    "    except:\n",
    "        print('Sorry, that\\'s not a number, please try again.')\n",
    "        continue\n",
    "\n",
    "    # checks that guess is between 1 and 100, tells user if not and won't tick attempts\n",
    "    if 1 <= num <= 100:\n",
    "        attempts += 1\n",
    "        if num == ans:\n",
    "            print('Yes! You got it in {} {}!'.format(attempts, plural))\n",
    "            break\n",
    "        plural = 'attempts'\n",
    "        if num < ans:\n",
    "            print('Too low! Try again!')\n",
    "        if num > ans:\n",
    "            print('Too high! Try again!')\n",
    "    else:\n",
    "        print('Ooh, my number is between 1 and 100, try again!')"
   ]
  }
 ],
 "metadata": {
  "kernelspec": {
   "display_name": "cognizant",
   "language": "python",
   "name": "cognizant"
  },
  "language_info": {
   "codemirror_mode": {
    "name": "ipython",
    "version": 3
   },
   "file_extension": ".py",
   "mimetype": "text/x-python",
   "name": "python",
   "nbconvert_exporter": "python",
   "pygments_lexer": "ipython3",
   "version": "3.13.2"
  }
 },
 "nbformat": 4,
 "nbformat_minor": 5
}
