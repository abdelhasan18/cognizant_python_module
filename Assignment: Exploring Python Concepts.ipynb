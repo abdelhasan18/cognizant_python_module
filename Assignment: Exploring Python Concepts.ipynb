{
 "cells": [
  {
   "cell_type": "markdown",
   "id": "92a47d0c-cbbb-4e61-8903-552b357b423e",
   "metadata": {},
   "source": [
    "Task 1 - Variables: Your First Python Intro\n",
    "Let’s start simple! Imagine you’re describing yourself (or anyone else you like) using Python variables.\n",
    "\n",
    "Create a name variable that stores a string (like your name or a fictional character’s name).\n",
    "Create an age variable that stores an integer value.\n",
    "Create a height variable that stores a floating-point number.\n",
    "For example, something like this:\n",
    "\n",
    "name = \"Alex\"\n",
    "age = 25\n",
    "height = 5.9\n",
    "Now print these variables in a friendly message:\n",
    "\n",
    "Example Output: \"Hey there, my name is Alex! I’m 25 years old and 5.9 feet tall.\"\n",
    "Feel free to get creative with the message! 🚀"
   ]
  },
  {
   "cell_type": "code",
   "execution_count": 4,
   "id": "1ea6913b-e991-4cd9-8ac5-df21c16fa0be",
   "metadata": {},
   "outputs": [
    {
     "name": "stdout",
     "output_type": "stream",
     "text": [
      "Hello! My name is Abdel! I'm 19 years old and 6.17 feet tall!\n"
     ]
    }
   ],
   "source": [
    "name = 'Abdel'\n",
    "age = 19\n",
    "height = round(6 + 2/12, 2)\n",
    "\n",
    "# just some formatting for the string, can be done many other ways\n",
    "output = 'Hello! My name is {}! I\\'m {} years old and {} feet tall!'.format(name, age, height) \n",
    "\n",
    "print(output)"
   ]
  },
  {
   "cell_type": "markdown",
   "id": "2fb9002e-10e6-4f4c-a3d9-4495f3ceb781",
   "metadata": {},
   "source": [
    "Task 2 - Operators: Playing with Numbers\n",
    "We all love some math, don’t we? Okay, maybe not everyone, but trust me, this will be easy and fun!\n",
    "\n",
    "Pick two numbers, let’s say num1 and num2 (you choose the values!).\n",
    "Perform the following operations on these numbers:\n",
    "Addition\n",
    "Subtraction\n",
    "Multiplication\n",
    "Division\n",
    "Write your Python code to calculate and display the results with a nice message for each.\n",
    "For example:\n",
    "\n",
    "num1 = 10\n",
    "num2 = 3\n",
    "print(\"The sum of 10 and 3 is\", num1 + num2)\n",
    "Be sure to explain what you’re doing in comments! Bonus points if you throw in some humor. 😄"
   ]
  },
  {
   "cell_type": "code",
   "execution_count": 5,
   "id": "63f20a83-1275-4d0f-8d17-573ba9557a7c",
   "metadata": {},
   "outputs": [
    {
     "name": "stdout",
     "output_type": "stream",
     "text": [
      "The sum of 13 and 6 is 19!\n",
      "The difference of 13 and 6 is 7!\n",
      "The product of 13 and 6 is 78!\n",
      "The quotient of 13 and 6 is 2.1666666666666665!\n"
     ]
    }
   ],
   "source": [
    "num1 = 13\n",
    "num2 = 6\n",
    "\n",
    "# add 0\n",
    "# sub 1\n",
    "# mult 2\n",
    "# div 3\n",
    "\n",
    "# indexed later according to scheme above\n",
    "ops = ['sum', 'difference', 'product', 'quotient']\n",
    "ans = 0\n",
    "\n",
    "# i didn't want to write four print statements so i used a switch case instead\n",
    "for i in range(4): # iterates 4 times, each time running through one of the operations\n",
    "    match i:\n",
    "        case 0:\n",
    "            ans = num1 + num2\n",
    "        case 1:\n",
    "            ans = num1 - num2\n",
    "        case 2:\n",
    "            ans = num1 * num2\n",
    "        case 3:\n",
    "            ans = num1 / num2\n",
    "        case _:\n",
    "            print('error')  \n",
    "    output = 'The {} of {} and {} is {}!'.format(ops[i], num1, num2, ans) # forms a unique string for each operation\n",
    "    print(output)\n",
    "\n",
    "# fun fact, this does NOT work on python 3.9. who would have thought (arguably the silliest 20 minutes i've spent reading a stackoverflow page)!"
   ]
  },
  {
   "cell_type": "markdown",
   "id": "6ea113c0-21ba-4cd8-a433-d52b12124a46",
   "metadata": {},
   "source": [
    "Task 3 - Conditional Statements: The Number Checker\n",
    "Now for the real challenge: let’s make your code think!\n",
    "\n",
    "Write a program that takes a number from the user and tells them whether it’s positive, negative, or zero.\n",
    "Here’s how it should work:\n",
    "\n",
    "Ask the user to enter a number (use the input() function).\n",
    "Use if, elif, and else statements to check:\n",
    "If the number is greater than 0, print: \"This number is positive. Awesome!\"\n",
    "If the number is less than 0, print: \"This number is negative. Better luck next time!\"\n",
    "If the number is exactly 0, print: \"Zero it is. A perfect balance!\"\n",
    "Make sure to test your code with a few different numbers. You’ll be surprised how fun it is to see your program come to life! 💻✨"
   ]
  },
  {
   "cell_type": "code",
   "execution_count": 1,
   "id": "56b6ddc2-763f-49b9-9bb0-0e221efd54e8",
   "metadata": {},
   "outputs": [
    {
     "name": "stdout",
     "output_type": "stream",
     "text": [
      "Hello!\n"
     ]
    },
    {
     "name": "stdin",
     "output_type": "stream",
     "text": [
      "Please enter a number:  890.2\n"
     ]
    },
    {
     "name": "stdout",
     "output_type": "stream",
     "text": [
      "This number is positive. Awesome!\n"
     ]
    }
   ],
   "source": [
    "# input and error catching, prevents non-numeric string values from causing issues\n",
    "sentinel = 1\n",
    "print('Hello!')\n",
    "while sentinel:\n",
    "    num = input('Please enter a number: ')\n",
    "    try:\n",
    "        num = float(num)\n",
    "        sentinel = 0\n",
    "    except:\n",
    "        print('Input is not a number, please try again.')\n",
    "\n",
    "# conditions as requested\n",
    "if num > 0:\n",
    "    print('This number is positive. Awesome!')\n",
    "elif num < 0:\n",
    "    print('This number is negative. Better luck next time!')\n",
    "else:\n",
    "    print('Zero it is. A perfect balance!')"
   ]
  }
 ],
 "metadata": {
  "kernelspec": {
   "display_name": "cognizant",
   "language": "python",
   "name": "cognizant"
  },
  "language_info": {
   "codemirror_mode": {
    "name": "ipython",
    "version": 3
   },
   "file_extension": ".py",
   "mimetype": "text/x-python",
   "name": "python",
   "nbconvert_exporter": "python",
   "pygments_lexer": "ipython3",
   "version": "3.13.2"
  }
 },
 "nbformat": 4,
 "nbformat_minor": 5
}
