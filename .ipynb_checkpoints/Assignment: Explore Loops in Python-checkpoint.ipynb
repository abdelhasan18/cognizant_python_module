{
 "cells": [
  {
   "cell_type": "markdown",
   "id": "8dae9455-cb08-4a3b-b006-8ffc2379395b",
   "metadata": {},
   "source": [
    "Task 1 - Counting Down with Loops\n",
    "Write a Python program to create a countdown timer.\n",
    "\n",
    "Ask the user for a starting number.\n",
    "Use a while loop to print numbers from that number down to 1.\n",
    "When the countdown ends, print a celebratory message like \"Blast off!\"\n",
    "For example:\n",
    "\n",
    "Enter the starting number: 5\n",
    "5 4 3 2 1 Blast off! 🚀"
   ]
  },
  {
   "cell_type": "code",
   "execution_count": 16,
   "id": "f54d97ec-c93b-4964-b95a-84de62bcad97",
   "metadata": {},
   "outputs": [
    {
     "name": "stdout",
     "output_type": "stream",
     "text": [
      "Hello!\n"
     ]
    },
    {
     "name": "stdin",
     "output_type": "stream",
     "text": [
      "Please enter a number:  10\n"
     ]
    },
    {
     "name": "stdout",
     "output_type": "stream",
     "text": [
      "10 9 8 7 6 5 4 3 2 1 Blast off!\n"
     ]
    }
   ],
   "source": [
    "# input and error catching, prevents non-numeric string values from causing issues\n",
    "sentinel = 1\n",
    "print('Hello!')\n",
    "while sentinel:\n",
    "    num = input('Please enter a number: ')\n",
    "    try:\n",
    "        num = int(num)\n",
    "        sentinel = 0\n",
    "    except:\n",
    "        print('Input is not a number, please try again.')\n",
    "\n",
    "count = ''\n",
    "for i in range(num, 0, -1):\n",
    "    count += str(i) + ' '\n",
    "print('{}Blast off!'.format(count))"
   ]
  },
  {
   "cell_type": "markdown",
   "id": "874fe1f4-e9c5-4307-9e44-28e788f3c06c",
   "metadata": {},
   "source": [
    "Task 2 - Multiplication Table with for Loops\n",
    "Write a program that generates the multiplication table for any number provided by the user.\n",
    "\n",
    "Ask the user to input a number.\n",
    "Use a for loop to print the multiplication table for that number (from 1 to 10).\n",
    "Example Output:\n",
    "\n",
    "Enter a number: 4\n",
    "4 x 1 = 4 4 x 2 = 8 ... 4 x 10 = 40"
   ]
  },
  {
   "cell_type": "code",
   "execution_count": 15,
   "id": "1ccf0ef6-8f54-48e8-b51d-4b8e0b3547b6",
   "metadata": {},
   "outputs": [
    {
     "name": "stdout",
     "output_type": "stream",
     "text": [
      "Hello!\n"
     ]
    },
    {
     "name": "stdin",
     "output_type": "stream",
     "text": [
      "Please enter an integer between 1 and 10:  5\n"
     ]
    },
    {
     "name": "stdout",
     "output_type": "stream",
     "text": [
      "5 x 1 = 5\n",
      "5 x 2 = 10\n",
      "5 x 3 = 15\n",
      "5 x 4 = 20\n",
      "5 x 5 = 25\n",
      "5 x 6 = 30\n",
      "5 x 7 = 35\n",
      "5 x 8 = 40\n",
      "5 x 9 = 45\n",
      "5 x 10 = 50\n"
     ]
    }
   ],
   "source": [
    "# input and error catching, prevents non-numeric string values from causing issues\n",
    "# also enforces that the integer must be between 1 and 10\n",
    "sentinel = 1\n",
    "print('Hello!')\n",
    "while sentinel:\n",
    "    num = input('Please enter an integer between 1 and 10: ')\n",
    "    try:\n",
    "        num = int(num)\n",
    "    except:\n",
    "        print('Input is not an integer, please try again.')\n",
    "        continue\n",
    "    if 1 <= num <= 10:\n",
    "        sentinel = 0\n",
    "    else:\n",
    "        print('Sorry, integer must be between 1 and 10, please try again.')\n",
    "\n",
    "# print statements\n",
    "for i in range(1, 11):\n",
    "    print('{} x {} = {}'.format(num, i, num * i))"
   ]
  },
  {
   "cell_type": "markdown",
   "id": "81bf65fc-2541-4353-b938-078111011653",
   "metadata": {},
   "source": [
    "Task 3 - Find the Factorial\n",
    "Write a Python program to calculate the factorial of a number entered by the user.\n",
    "\n",
    "Ask the user for a number.\n",
    "Use a for loop to calculate the factorial.\n",
    "Print the result in a friendly format.\n",
    "For example:\n",
    "\n",
    "Enter a number: 5\n",
    "The factorial of 5 is 120.\n"
   ]
  },
  {
   "cell_type": "code",
   "execution_count": 19,
   "id": "6d78eaac-e605-420a-910e-75edcf226f93",
   "metadata": {},
   "outputs": [
    {
     "name": "stdout",
     "output_type": "stream",
     "text": [
      "Hello!\n"
     ]
    },
    {
     "name": "stdin",
     "output_type": "stream",
     "text": [
      "Please enter a number:  8\n"
     ]
    },
    {
     "name": "stdout",
     "output_type": "stream",
     "text": [
      "The factorial of 8 is 40320\n"
     ]
    }
   ],
   "source": [
    "# input and error catching, prevents non-numeric string values from causing issues\n",
    "sentinel = 1\n",
    "print('Hello!')\n",
    "while sentinel:\n",
    "    num = input('Please enter a number: ')\n",
    "    try:\n",
    "        num = int(num)\n",
    "        sentinel = 0\n",
    "    except:\n",
    "        print('Input is not a number, please try again.')\n",
    "\n",
    "ans = 1\n",
    "for i in range (num, 1, -1):\n",
    "    ans *= i\n",
    "output = 'The factorial of {} is {}'.format(num, ans)\n",
    "print(output)"
   ]
  }
 ],
 "metadata": {
  "kernelspec": {
   "display_name": "cognizant",
   "language": "python",
   "name": "cognizant"
  },
  "language_info": {
   "codemirror_mode": {
    "name": "ipython",
    "version": 3
   },
   "file_extension": ".py",
   "mimetype": "text/x-python",
   "name": "python",
   "nbconvert_exporter": "python",
   "pygments_lexer": "ipython3",
   "version": "3.13.2"
  }
 },
 "nbformat": 4,
 "nbformat_minor": 5
}
