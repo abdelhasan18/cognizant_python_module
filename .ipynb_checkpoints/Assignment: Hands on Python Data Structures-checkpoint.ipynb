{
 "cells": [
  {
   "cell_type": "markdown",
   "id": "c11751df-18cc-4d9e-9c2f-dac5a004e8c7",
   "metadata": {},
   "source": [
    "Task 1 - Working with Lists\n",
    "\n",
    "Create a list of your favorite fruits. Add at least five fruits to the list.\n",
    "Perform the following operations:\n",
    "Append a new fruit to the list.\n",
    "Remove one fruit from the list using the remove() method.\n",
    "Print the list in reverse order using slicing.\n",
    "Example Output:\n",
    "\n",
    "Original list: ['apple', 'banana', 'cherry', 'date', 'elderberry']\n",
    "After adding a fruit: ['apple', 'banana', 'cherry', 'date', 'elderberry', 'fig']\n",
    "After removing a fruit: ['banana', 'cherry', 'date', 'elderberry', 'fig']\n",
    "Reversed list: ['fig', 'elderberry', 'date', 'cherry', 'banana']"
   ]
  },
  {
   "cell_type": "code",
   "execution_count": 2,
   "id": "00400840-6fd5-42ac-9d7d-9fce2d20449a",
   "metadata": {},
   "outputs": [
    {
     "name": "stdout",
     "output_type": "stream",
     "text": [
      "Original list: ['guava', 'mango', 'banana', 'kiwi', 'date']\n",
      "After adding a fruit: ['guava', 'mango', 'banana', 'kiwi', 'date', 'tomato']\n",
      "After removing a fruit: ['guava', 'mango', 'banana', 'kiwi', 'tomato']\n",
      "After removing a fruit: ['tomato', 'kiwi', 'banana', 'mango', 'guava']\n"
     ]
    }
   ],
   "source": [
    "fruits = ['guava', 'mango', 'banana', 'kiwi', 'date']\n",
    "print('Original list:', fruits)\n",
    "\n",
    "fruits.append('tomato')\n",
    "print('After adding a fruit:', fruits)\n",
    "\n",
    "fruits.remove('date')\n",
    "print('After removing a fruit:', fruits)\n",
    "\n",
    "fruits.reverse()\n",
    "print('After removing a fruit:', fruits)"
   ]
  },
  {
   "cell_type": "markdown",
   "id": "37f01d61-63eb-4ba4-bade-77af311141d1",
   "metadata": {},
   "source": [
    "Task 2 - Exploring Dictionaries\n",
    "\n",
    "Create a dictionary to store information about yourself with the following keys: \"name\", \"age\", \"city\".\n",
    "Add a new key-value pair to the dictionary for \"favorite color\".\n",
    "Update the \"city\" key with a new value.\n",
    "Print all the keys and values using a loop.\n",
    "Example Output:\n",
    "\n",
    "Keys: name, age, city, favorite color\n",
    "Values: Alice, 25, New York, Blue"
   ]
  },
  {
   "cell_type": "code",
   "execution_count": 2,
   "id": "2f840cc3-0a84-4df0-88de-bee4dcb8d34e",
   "metadata": {},
   "outputs": [
    {
     "name": "stdout",
     "output_type": "stream",
     "text": [
      "My name is Abdel.\n",
      "My age is 19.\n",
      "My city is denver.\n",
      "My favorite color is purple.\n"
     ]
    }
   ],
   "source": [
    "dict = {'name': 'Abdel', 'age': 19, 'city' : 'chicago'}\n",
    "dict['favorite color'] = 'purple'\n",
    "dict['city'] = 'denver'\n",
    "\n",
    "for key in dict:\n",
    "    print('My {} is {}.'.format(key, dict[key]))"
   ]
  },
  {
   "cell_type": "markdown",
   "id": "3f52fa91-127f-4287-ab1a-6b4c51eaa56f",
   "metadata": {},
   "source": [
    "Task 3 - Using Tuples\n",
    "\n",
    "Create a tuple with three elements: your favorite movie, song, and book.\n",
    "Try to change one of the elements (you’ll see why tuples are immutable!).\n",
    "Print the length of the tuple using the len() function.\n",
    "Example Output:\n",
    "\n",
    "Favorite things: ('Inception', 'Bohemian Rhapsody', '1984')\n",
    "Oops! Tuples cannot be changed.\n",
    "Length of tuple: 3"
   ]
  },
  {
   "cell_type": "code",
   "execution_count": 10,
   "id": "8fba073a-9053-45b2-954b-b1b0e66b063b",
   "metadata": {},
   "outputs": [
    {
     "name": "stdout",
     "output_type": "stream",
     "text": [
      "Favorite Things: ('edge of tomorrow', 'just a boy', 'anthem'), Length is 3.\n",
      "Error arose: 'tuple' object does not support item assignment\n"
     ]
    }
   ],
   "source": [
    "tup = ('edge of tomorrow', 'just a boy', 'anthem')\n",
    "\n",
    "print('Favorite Things: {}, Length is {}.'.format(tup, len(tup)))\n",
    "try:\n",
    "    tup[1] = 'out of tune'\n",
    "except Exception as e:\n",
    "    print('Error arose:', e)"
   ]
  }
 ],
 "metadata": {
  "kernelspec": {
   "display_name": "cognizant",
   "language": "python",
   "name": "cognizant"
  },
  "language_info": {
   "codemirror_mode": {
    "name": "ipython",
    "version": 3
   },
   "file_extension": ".py",
   "mimetype": "text/x-python",
   "name": "python",
   "nbconvert_exporter": "python",
   "pygments_lexer": "ipython3",
   "version": "3.13.2"
  }
 },
 "nbformat": 4,
 "nbformat_minor": 5
}
