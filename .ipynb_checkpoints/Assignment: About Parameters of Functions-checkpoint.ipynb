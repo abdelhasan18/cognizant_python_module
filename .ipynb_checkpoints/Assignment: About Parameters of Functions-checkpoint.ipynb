{
 "cells": [
  {
   "cell_type": "markdown",
   "id": "f682631e-daf9-4039-87fb-3251dfa22965",
   "metadata": {},
   "source": [
    "Task 1 - Writing Functions\n",
    "Create a function greet_user that accepts a name as a parameter and prints a personalized greeting.\n",
    "Then, write another function add_numbers that takes two numbers as parameters, adds them, and returns the result.\n",
    "\n",
    "Example Output:\n",
    "\n",
    "plaintext\n",
    "Copy code\n",
    "Hello, Alice! Welcome aboard. The sum of 5 and 10 is 15."
   ]
  },
  {
   "cell_type": "code",
   "execution_count": 3,
   "id": "afce04ed-358a-43e7-8acc-9e919d0dbef0",
   "metadata": {},
   "outputs": [
    {
     "name": "stdout",
     "output_type": "stream",
     "text": [
      "Hello, Elizabeth! Welcome aboard.\n",
      "The sum of 9 and 10 is 19.\n"
     ]
    }
   ],
   "source": [
    "def greet(name):\n",
    "    print(f'Hello, {name}! Welcome aboard.')\n",
    "def add_numbers(a, b):\n",
    "    return a + b\n",
    "greet('Elizabeth')\n",
    "print(f'The sum of 9 and 10 is {add_numbers(9, 10)}.')"
   ]
  },
  {
   "cell_type": "markdown",
   "id": "7a781dc4-63ba-4fcc-bdfd-afd685e07608",
   "metadata": {},
   "source": [
    "Task 2 - Using Default Parameters\n",
    "Create a function describe_pet that accepts two parameters:\n",
    "\n",
    "pet_name (string)\n",
    "animal_type (string, default value is \"dog\").\n",
    "The function should print a description of the pet.\n",
    "\n",
    "Example Output:\n",
    "\n",
    "plaintext\n",
    "Copy code\n",
    "I have a dog named Buddy. I have a cat named Whiskers."
   ]
  },
  {
   "cell_type": "code",
   "execution_count": 4,
   "id": "407f08b1-e4f8-4d78-925d-bb247521d5d0",
   "metadata": {},
   "outputs": [
    {
     "name": "stdout",
     "output_type": "stream",
     "text": [
      "I have a dog named Fido.\n",
      "I have a cat named Kitty.\n"
     ]
    }
   ],
   "source": [
    "def describe_pet(pet_name, animal_type='dog'):\n",
    "    print(f'I have a {animal_type} named {pet_name}.')\n",
    "\n",
    "describe_pet('Fido')\n",
    "describe_pet('Kitty', 'cat')"
   ]
  },
  {
   "cell_type": "markdown",
   "id": "b200ee45-c755-441b-bcf7-bdecb1318012",
   "metadata": {},
   "source": [
    "Task 3 - Functions with Variable Arguments\n",
    "Write a function make_sandwich that accepts a variable number of arguments for sandwich ingredients and prints them as a list.\n",
    "\n",
    "Example Output:\n",
    "\n",
    "plaintext\n",
    "Copy code\n",
    "Making a sandwich with the following ingredients: - Lettuce - Tomato - Cheese"
   ]
  },
  {
   "cell_type": "code",
   "execution_count": 17,
   "id": "528eb280-40db-4d09-94e8-21ae961319ff",
   "metadata": {},
   "outputs": [
    {
     "name": "stdout",
     "output_type": "stream",
     "text": [
      "I am making a sandwhich with: - bacon - lettuce - tomato\n"
     ]
    }
   ],
   "source": [
    "def make_sandwich(*argv):\n",
    "    output = ''\n",
    "    for item in argv:\n",
    "        output += ' - ' + item\n",
    "    print(f'I am making a sandwhich with:{output}')\n",
    "\n",
    "make_sandwich('bacon', 'lettuce', 'tomato')"
   ]
  },
  {
   "cell_type": "markdown",
   "id": "0c7e1111-31cb-4a3c-a89c-67d5d9a62b28",
   "metadata": {},
   "source": [
    "Task 4 - Understanding Recursion\n",
    "Write a recursive function factorial to calculate the factorial of a number.\n",
    "Then, write another recursive function fibonacci to calculate the nth number in the Fibonacci sequence.\n",
    "\n",
    "Example Output:\n",
    "\n",
    "plaintext\n",
    "Copy code\n",
    "Factorial of 5 is 120. The 6th Fibonacci number is 8."
   ]
  },
  {
   "cell_type": "code",
   "execution_count": 35,
   "id": "18b62e65-ee48-47e9-9f52-b12035c37afa",
   "metadata": {},
   "outputs": [
    {
     "name": "stdout",
     "output_type": "stream",
     "text": [
      "The Factorial of 5 is 120.\n",
      "The 6th Fibonacci number is 8.\n"
     ]
    }
   ],
   "source": [
    "def rec(n):\n",
    "    if n == 1:\n",
    "        return 1\n",
    "    return n * rec(n-1)\n",
    "    \n",
    "def fib(n):\n",
    "    if n <= 1:\n",
    "        return n\n",
    "    return fib(n-1) + fib(n-2)\n",
    "print(f'The Factorial of 5 is {rec(5)}.')\n",
    "print(f'The 6th Fibonacci number is {fib(6)}.')"
   ]
  }
 ],
 "metadata": {
  "kernelspec": {
   "display_name": "cognizant",
   "language": "python",
   "name": "cognizant"
  },
  "language_info": {
   "codemirror_mode": {
    "name": "ipython",
    "version": 3
   },
   "file_extension": ".py",
   "mimetype": "text/x-python",
   "name": "python",
   "nbconvert_exporter": "python",
   "pygments_lexer": "ipython3",
   "version": "3.13.2"
  }
 },
 "nbformat": 4,
 "nbformat_minor": 5
}
