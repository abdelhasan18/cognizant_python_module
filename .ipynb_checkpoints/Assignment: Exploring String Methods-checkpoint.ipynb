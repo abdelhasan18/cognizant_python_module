{
 "cells": [
  {
   "cell_type": "markdown",
   "id": "e5903abf-7afd-4112-9642-a8c4311cf15a",
   "metadata": {},
   "source": [
    "Task 1 - String Slicing and Indexing\n",
    "\n",
    "Create a string variable with the value \"Python is amazing!\".\n",
    "Extract the following using slicing:\n",
    "The first 6 characters (\"Python\")\n",
    "The word \"amazing\"\n",
    "The entire string in reverse order\n",
    "Print each of these slices with a clear label.\n",
    "Example Output:\n",
    "\n",
    "First word: Python\n",
    "Amazing part: amazing\n",
    "Reversed string: !gnizama si nohtyP"
   ]
  },
  {
   "cell_type": "code",
   "execution_count": 5,
   "id": "ae9009d4-be93-4690-bfe5-24fa4101101f",
   "metadata": {},
   "outputs": [
    {
     "name": "stdout",
     "output_type": "stream",
     "text": [
      "First word: Python\n",
      "Amazing part: amazing\n",
      "Reversed string: !gnizama si nohtyP\n"
     ]
    }
   ],
   "source": [
    "msg = 'Python is amazing!'\n",
    "\n",
    "clause1 = msg[:6]\n",
    "clause2 = msg[-8:-1]\n",
    "clause3 = msg[::-1]\n",
    "\n",
    "print('First word:', clause1)\n",
    "print('Amazing part:', clause2)\n",
    "print('Reversed string:', clause3)"
   ]
  },
  {
   "cell_type": "markdown",
   "id": "e9a30a5e-fd01-4a09-9739-54ddd7287919",
   "metadata": {},
   "source": [
    "Task 2 - String Methods\n",
    "\n",
    "Create a string with the value \" hello, python world! \".\n",
    "Use the following string methods and print the results:\n",
    "strip() to remove extra spaces\n",
    "capitalize() to capitalize the first letter\n",
    "replace() to replace \"world\" with \"universe\"\n",
    "upper() to convert the string to uppercase"
   ]
  },
  {
   "cell_type": "code",
   "execution_count": 11,
   "id": "b3ecccc8-9466-4ae8-9fa5-9198d355532b",
   "metadata": {},
   "outputs": [
    {
     "name": "stdout",
     "output_type": "stream",
     "text": [
      "Excessive whitespace stripped: \"hello, python world!\"\n",
      "Capitalized first letter: \" hello, python world! \"\n",
      "Converted to uppercase: \" HELLO, PYTHON WORLD! \"\n"
     ]
    }
   ],
   "source": [
    "msg = ' hello, python world! '\n",
    "\n",
    "strip = msg.strip()\n",
    "capitalize = msg.capitalize()\n",
    "replace = msg.replace('world', 'universe')\n",
    "upper = msg.upper()\n",
    "\n",
    "print('Excessive whitespace stripped: \"{}\"'.format(strip))\n",
    "print('Capitalized first letter: \"{}\"'.format(capitalize))\n",
    "print('Converted to uppercase: \"{}\"'.format(upper))"
   ]
  },
  {
   "cell_type": "markdown",
   "id": "7ac8bdc4-8608-456e-a1ab-f7c29e2573e2",
   "metadata": {},
   "source": [
    "Task 3 - Check for Palindromes\n",
    "Write a Python program to check if a string is a palindrome (reads the same backward and forward).\n",
    "\n",
    "Ask the user to input a word.\n",
    "Use slicing to reverse the string and compare it with the original.\n",
    "Print a friendly message indicating whether the word is a palindrome.\n",
    "Example Run:\n",
    "\n",
    "Enter a word: madam\n",
    "Yes, 'madam' is a palindrome!"
   ]
  },
  {
   "cell_type": "code",
   "execution_count": 19,
   "id": "b954d2a0-6e46-49fd-a9f1-c0f284a702f3",
   "metadata": {},
   "outputs": [
    {
     "name": "stdout",
     "output_type": "stream",
     "text": [
      "Hello!\n"
     ]
    },
    {
     "name": "stdin",
     "output_type": "stream",
     "text": [
      "Please input a string: madam\n"
     ]
    },
    {
     "name": "stdout",
     "output_type": "stream",
     "text": [
      "True! The input \"madam\" is a palindrome!\n"
     ]
    }
   ],
   "source": [
    "print('Hello!')\n",
    "txt = input('Please input a string:')\n",
    "\n",
    "def isPalindrome(str):\n",
    "    rev = str[::-1]\n",
    "    return str == rev\n",
    "\n",
    "output = str(isPalindrome(txt)).capitalize() + '!'\n",
    "print(output, 'The input \"{}\" is a palindrome!'.format(txt))"
   ]
  }
 ],
 "metadata": {
  "kernelspec": {
   "display_name": "cognizant",
   "language": "python",
   "name": "cognizant"
  },
  "language_info": {
   "codemirror_mode": {
    "name": "ipython",
    "version": 3
   },
   "file_extension": ".py",
   "mimetype": "text/x-python",
   "name": "python",
   "nbconvert_exporter": "python",
   "pygments_lexer": "ipython3",
   "version": "3.13.2"
  }
 },
 "nbformat": 4,
 "nbformat_minor": 5
}
