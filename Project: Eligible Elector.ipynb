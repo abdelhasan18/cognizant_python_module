{
 "cells": [
  {
   "cell_type": "markdown",
   "id": "c51f9f09-e569-488e-b9fe-b37dec291686",
   "metadata": {},
   "source": [
    "Step 1: Ask the User’s Age\n",
    "Your program should start by asking the user:\n",
    "\n",
    "age = int(input(\"How old are you? \"))\n",
    "Make sure you convert the input into an integer so you can use it in calculations later.\n",
    "\n",
    "Step 2: Decide the Eligibility\n",
    "Use a conditional statement to check if the age is 18 or older. Here’s the logic:\n",
    "\n",
    "If the user’s age is 18 or above, display a warm message like:\n",
    "\"Congratulations! You are eligible to vote. Go make a difference!\"\n",
    "If the user’s age is less than 18, calculate how many years they have to wait. Display a friendly message like:\n",
    "\"Oops! You’re not eligible yet. But hey, only X more years to go!\"\n",
    "\n",
    "Step 3: Test with Different Ages\n",
    "Here’s an example of how your program should behave:\n",
    "\n",
    "Example Run 1:\n",
    "\n",
    "How old are you? 16\n",
    "Oops! You’re not eligible yet. But hey, only 2 more years to go!\n",
    "Example Run 2:\n",
    "\n",
    "How old are you? 20\n",
    "Congratulations! You are eligible to vote. Go make a difference!\n",
    "Step 4: Polish It Up\n",
    "Make sure your program is friendly, clear, and fun! Add comments to explain what your code is doing and maybe throw in a fun line or emoji for extra flair."
   ]
  },
  {
   "cell_type": "code",
   "execution_count": 17,
   "id": "3dbf51e4-7741-4803-b6f9-a8f76a4e3c94",
   "metadata": {},
   "outputs": [
    {
     "name": "stdout",
     "output_type": "stream",
     "text": [
      "Hello!\n"
     ]
    },
    {
     "name": "stdin",
     "output_type": "stream",
     "text": [
      "How old are you?  Hi!\n"
     ]
    },
    {
     "name": "stdout",
     "output_type": "stream",
     "text": [
      "Sorry, I need your age, please try again.\n"
     ]
    },
    {
     "name": "stdin",
     "output_type": "stream",
     "text": [
      "How old are you?  Okay\n"
     ]
    },
    {
     "name": "stdout",
     "output_type": "stream",
     "text": [
      "Sorry, I need your age, please try again.\n"
     ]
    },
    {
     "name": "stdin",
     "output_type": "stream",
     "text": [
      "How old are you?  18\n"
     ]
    },
    {
     "name": "stdout",
     "output_type": "stream",
     "text": [
      "Congratulations! You are eligible to vote. Go make a difference!\n"
     ]
    }
   ],
   "source": [
    "# input and error catching, prevents non-numeric string values from causing issues\n",
    "sentinel = 1\n",
    "print('Hello!')\n",
    "while sentinel:\n",
    "    age = input('How old are you? ')\n",
    "    try:\n",
    "        age = int(age)\n",
    "        sentinel = 0 # breaks loop\n",
    "    except:\n",
    "        print('Sorry, I need your age, please try again.')\n",
    "        \n",
    "# verifies age\n",
    "if age >= 18:\n",
    "    print('Congratulations! You are eligible to vote. Go make a difference!')\n",
    "else:\n",
    "    diff = 18 - age\n",
    "    \n",
    "    # saying '1 years' sounds odd so we should handle that\n",
    "    plural = 'years'\n",
    "    if diff == 1:\n",
    "        plural = 'year'\n",
    "\n",
    "    # formats message with age differance and different year plurals\n",
    "    msg = 'Oops! You’re not eligible yet. But hey, only {} more {} to go!'.format(diff, plural)\n",
    "    print(msg)"
   ]
  }
 ],
 "metadata": {
  "kernelspec": {
   "display_name": "cognizant",
   "language": "python",
   "name": "cognizant"
  },
  "language_info": {
   "codemirror_mode": {
    "name": "ipython",
    "version": 3
   },
   "file_extension": ".py",
   "mimetype": "text/x-python",
   "name": "python",
   "nbconvert_exporter": "python",
   "pygments_lexer": "ipython3",
   "version": "3.13.2"
  }
 },
 "nbformat": 4,
 "nbformat_minor": 5
}
