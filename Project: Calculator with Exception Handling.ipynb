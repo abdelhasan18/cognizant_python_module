{
 "cells": [
  {
   "cell_type": "markdown",
   "id": "6ae9a008-8dce-4c0c-a2c4-8387068ca984",
   "metadata": {},
   "source": [
    "Step 1: Menu of Operations\n",
    "Create a program that displays a menu with the following operations:\n",
    "\n",
    "Addition\n",
    "Subtraction\n",
    "Multiplication\n",
    "Division\n",
    "Exit\n",
    "The user should select an option by entering a number.\n",
    "\n",
    "Step 2: Input Validation\n",
    "Add input validation to ensure the user enters numbers only for the calculations. If the input is invalid, catch the exception and prompt the user again.\n",
    "\n",
    "Example Output:\n",
    "\n",
    "plaintext\n",
    "Copy code\n",
    "Enter the first number: abc Invalid input! Please enter a valid number.\n",
    "\n",
    "Step 3: Division with Exception Handling\n",
    "Handle the following exceptions specifically for the division operation:\n",
    "\n",
    "ZeroDivisionError: Print a friendly message when dividing by zero.\n",
    "ValueError: Ensure the inputs are numbers.\n",
    "Example Output:\n",
    "\n",
    "plaintext\n",
    "Copy code\n",
    "Enter the first number: 10 Enter the second number: 0 Oops! Division by zero is not allowed.\n",
    "\n",
    "Step 4: Logging Errors (Bonus)\n",
    "Use the logging module to log errors to a file named error_log.txt whenever an exception occurs.\n",
    "Example Log Entry:\n",
    "\n",
    "plaintext\n",
    "Copy code\n",
    "ERROR:root:ZeroDivisionError occurred: division by zero.\n",
    "\n",
    "Step 5: User-Friendly Interface\n",
    "Enhance the program with the following features:\n",
    "\n",
    "Clear prompts and instructions.\n",
    "A try...except...else...finally structure to ensure robustness.\n",
    "Informative error messages for each exception.\n",
    "Example Run:\n",
    "\n",
    "plaintext\n",
    "Copy code\n",
    "Welcome to the Error-Free Calculator! Choose an operation: 1. Addition 2. Subtraction 3. Multiplication 4. Division 5. Exit > 4 Enter the first number: 10 Enter the second number: 0 Oops! Division by zero is not allowed. Choose an operation: 5 Goodbye!"
   ]
  },
  {
   "cell_type": "code",
   "execution_count": 7,
   "id": "76924533-e2bc-4f6f-9cd3-1886ee26ffbf",
   "metadata": {},
   "outputs": [
    {
     "name": "stdout",
     "output_type": "stream",
     "text": [
      "Hello! What operation can I help you with?\n",
      " - Type 1 for Addition\n",
      " - Type 2 for Subtraction\n",
      " - Type 3 for Multiplication\n",
      " - Type 4 for Division\n",
      " - Type 5 for Exit\n"
     ]
    },
    {
     "name": "stdin",
     "output_type": "stream",
     "text": [
      " d\n"
     ]
    },
    {
     "name": "stdout",
     "output_type": "stream",
     "text": [
      "\n",
      "Sorry, we don't recognize this input. Please try again:\n",
      " - Type 1 for Addition\n",
      " - Type 2 for Subtraction\n",
      " - Type 3 for Multiplication\n",
      " - Type 4 for Division\n",
      " - Type 5 for Exit\n"
     ]
    },
    {
     "name": "stdin",
     "output_type": "stream",
     "text": [
      " 1\n"
     ]
    },
    {
     "name": "stdout",
     "output_type": "stream",
     "text": [
      "\n"
     ]
    },
    {
     "name": "stdin",
     "output_type": "stream",
     "text": [
      "Input the first number: 3\n",
      "Input the second number: f\n"
     ]
    },
    {
     "name": "stdout",
     "output_type": "stream",
     "text": [
      "Error: Could not convert string to float: 'f'\n",
      " - Type 1 for Addition\n",
      " - Type 2 for Subtraction\n",
      " - Type 3 for Multiplication\n",
      " - Type 4 for Division\n",
      " - Type 5 for Exit\n"
     ]
    },
    {
     "name": "stdin",
     "output_type": "stream",
     "text": [
      " 3\n"
     ]
    },
    {
     "name": "stdout",
     "output_type": "stream",
     "text": [
      "\n"
     ]
    },
    {
     "name": "stdin",
     "output_type": "stream",
     "text": [
      "Input the first number: 5\n",
      "Input the second number: 8\n"
     ]
    },
    {
     "name": "stdout",
     "output_type": "stream",
     "text": [
      "40.0\n",
      " - Type 1 for Addition\n",
      " - Type 2 for Subtraction\n",
      " - Type 3 for Multiplication\n",
      " - Type 4 for Division\n",
      " - Type 5 for Exit\n"
     ]
    },
    {
     "name": "stdin",
     "output_type": "stream",
     "text": [
      " 4\n"
     ]
    },
    {
     "name": "stdout",
     "output_type": "stream",
     "text": [
      "\n"
     ]
    },
    {
     "name": "stdin",
     "output_type": "stream",
     "text": [
      "Input the first number: 32\n",
      "Input the second number: 0\n"
     ]
    },
    {
     "name": "stdout",
     "output_type": "stream",
     "text": [
      "Error: Float division by zero\n",
      " - Type 1 for Addition\n",
      " - Type 2 for Subtraction\n",
      " - Type 3 for Multiplication\n",
      " - Type 4 for Division\n",
      " - Type 5 for Exit\n"
     ]
    },
    {
     "name": "stdin",
     "output_type": "stream",
     "text": [
      " 5\n"
     ]
    },
    {
     "name": "stdout",
     "output_type": "stream",
     "text": [
      "\n",
      "Have a lovely day!\n"
     ]
    }
   ],
   "source": [
    "from logging import *\n",
    "print('Hello! What operation can I help you with?')\n",
    "while True:\n",
    "    print(' - Type 1 for Addition')\n",
    "    print(' - Type 2 for Subtraction')\n",
    "    print(' - Type 3 for Multiplication')\n",
    "    print(' - Type 4 for Division')\n",
    "    print(' - Type 5 for Exit')\n",
    "    op = input()\n",
    "    print()\n",
    "    try:\n",
    "        op = int(op)\n",
    "    except:\n",
    "        pass\n",
    "    match op:\n",
    "        case 1:\n",
    "            try:\n",
    "                num1 = float(input('Input the first number:'))\n",
    "                num2 = float(input('Input the second number:'))\n",
    "                ans = num1 + num2\n",
    "            except Exception as e:\n",
    "                print('Error:', str(e).capitalize())\n",
    "                continue\n",
    "        case 2:\n",
    "            try:\n",
    "                num1 = float(input('Input the first number:'))\n",
    "                num2 = float(input('Input the second number:'))\n",
    "                ans = num1 - num2\n",
    "            except Exception as e:\n",
    "                print('Error:', str(e).capitalize())\n",
    "                continue\n",
    "        case 3:\n",
    "            try:\n",
    "                num1 = float(input('Input the first number:'))\n",
    "                num2 = float(input('Input the second number:'))\n",
    "                ans = num1 * num2\n",
    "            except Exception as e:\n",
    "                print('Error:', str(e).capitalize())\n",
    "                continue\n",
    "        case 4:\n",
    "            try:\n",
    "                num1 = float(input('Input the first number:'))\n",
    "                num2 = float(input('Input the second number:'))\n",
    "                ans = num1 / num2\n",
    "            except Exception as e:\n",
    "                print('Error:', str(e).capitalize())\n",
    "                continue\n",
    "        case 5:\n",
    "            print('Have a lovely day!')\n",
    "            break\n",
    "        case _:\n",
    "            print('Sorry, we don\\'t recognize this input. Please try again:')\n",
    "            continue\n",
    "    print(ans)\n",
    "        "
   ]
  }
 ],
 "metadata": {
  "kernelspec": {
   "display_name": "cognizant",
   "language": "python",
   "name": "cognizant"
  },
  "language_info": {
   "codemirror_mode": {
    "name": "ipython",
    "version": 3
   },
   "file_extension": ".py",
   "mimetype": "text/x-python",
   "name": "python",
   "nbconvert_exporter": "python",
   "pygments_lexer": "ipython3",
   "version": "3.13.2"
  }
 },
 "nbformat": 4,
 "nbformat_minor": 5
}
