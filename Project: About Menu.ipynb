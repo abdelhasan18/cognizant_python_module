{
 "cells": [
  {
   "cell_type": "markdown",
   "id": "c1bad8ac-7937-4cde-b083-2c3561dbae28",
   "metadata": {},
   "source": [
    "Step 1: Menu of Recursive Functions\n",
    "Create a program that presents a menu of choices:\n",
    "\n",
    "Calculate the factorial of a number.\n",
    "Find the nth Fibonacci number.\n",
    "Draw a recursive fractal pattern (bonus).\n",
    "Exit.\n",
    "The user should select an option by entering a number.\n",
    "\n",
    "Step 2: Factorial Function\n",
    "Implement a recursive function to calculate the factorial of a number and display the result.\n",
    "Example Run:\n",
    "\n",
    "plaintext\n",
    "Copy code\n",
    "Enter a number to find its factorial: 5 The factorial of 5 is 120.\n",
    "\n",
    "Step 3: Fibonacci Function\n",
    "Implement a recursive function to calculate the nth Fibonacci number and display the result.\n",
    "Example Run:\n",
    "\n",
    "Enter the position of the Fibonacci number: 7 The 7th Fibonacci number is 13.\n",
    "\n",
    "Step 4: Recursive Fractal Pattern (Bonus)\n",
    "Using the turtle library, create a recursive function to draw a fractal pattern (e.g., a tree or snowflake).\n",
    "Example Run: A simple fractal tree drawing! 🌳\n",
    "\n",
    "Step 5: User-Friendly Program\n",
    "Enhance the program with the following features:\n",
    "\n",
    "Input validation (e.g., check for positive integers).\n",
    "Friendly prompts and error messages.\n",
    "Comments explaining the purpose of each function."
   ]
  },
  {
   "cell_type": "code",
   "execution_count": 11,
   "id": "9423532a-481b-4ff2-b46c-03761b603149",
   "metadata": {},
   "outputs": [
    {
     "name": "stdout",
     "output_type": "stream",
     "text": [
      "What would you like assistance with?\n",
      " - Type 1 for calculating the Factorial of a number n\n",
      " - Type 2 for finding the nth Fibonnacci number\n",
      " - Type 3 for drawing a recursive fractal pattern\n",
      " - Type 4 to exit the program\n"
     ]
    },
    {
     "name": "stdin",
     "output_type": "stream",
     "text": [
      " 1\n",
      "Enter a number to find its factorial: 5\n"
     ]
    },
    {
     "name": "stdout",
     "output_type": "stream",
     "text": [
      "The factorial of 5 is 120.\n",
      "\n",
      " - Type 1 for calculating the Factorial of a number n\n",
      " - Type 2 for finding the nth Fibonnacci number\n",
      " - Type 3 for drawing a recursive fractal pattern\n",
      " - Type 4 to exit the program\n"
     ]
    },
    {
     "name": "stdin",
     "output_type": "stream",
     "text": [
      " 2\n",
      "Enter the position of the Fibonacci number: 6\n"
     ]
    },
    {
     "name": "stdout",
     "output_type": "stream",
     "text": [
      "The 6'th Fibonacci number is 8.\n",
      "\n",
      " - Type 1 for calculating the Factorial of a number n\n",
      " - Type 2 for finding the nth Fibonnacci number\n",
      " - Type 3 for drawing a recursive fractal pattern\n",
      " - Type 4 to exit the program\n"
     ]
    },
    {
     "name": "stdin",
     "output_type": "stream",
     "text": [
      " 4\n"
     ]
    },
    {
     "name": "stdout",
     "output_type": "stream",
     "text": [
      "Have a lovely day!\n"
     ]
    }
   ],
   "source": [
    "from turtle import *\n",
    "def fac(n):\n",
    "    if n == 1:\n",
    "        return 1\n",
    "    return n * fac(n-1)\n",
    "def fib(n):\n",
    "    if n <= 1:\n",
    "        return n\n",
    "    return fib(n-1) + fib(n-2)\n",
    "\n",
    "print('What would you like assistance with?')\n",
    "while True: # while loop allows for multiple queries to be attended to in one execution\n",
    "    print(' - Type 1 for calculating the Factorial of a number n')\n",
    "    print(' - Type 2 for finding the nth Fibonnacci number')\n",
    "    print(' - Type 3 for drawing a recursive fractal pattern')\n",
    "    print(' - Type 4 to exit the program')\n",
    "    \n",
    "    op = input()\n",
    "    try:\n",
    "        op = int(op)\n",
    "    except:\n",
    "        pass\n",
    "    match op:\n",
    "        case 1:\n",
    "            n = int(input('Enter a number to find its factorial:'))\n",
    "            print('The factorial of {} is {}.\\n'.format(n, fac(n)))\n",
    "        case 2:\n",
    "            n = int(input('Enter the position of the Fibonacci number:'))\n",
    "            # some conditional clauses for proper ordinal suffixs\n",
    "            if n == 1: str = 'st'\n",
    "            elif n == 2: str = 'nd'\n",
    "            elif n == 3: str = 'rd'\n",
    "            else: str = 'th'\n",
    "            print('The {}\\'{} Fibonacci number is {}.\\n'.format(n, str, fib(n)))\n",
    "        case 3:\n",
    "            print('TBI')\n",
    "        case 4:\n",
    "            print('Have a lovely day!')\n",
    "            break # exits while loop, terminates program\n",
    "        case _: # any non-numeric or numeric values not in menu will be caught here\n",
    "            print('\\nSorry, we did not recognize your input, please try again:')"
   ]
  }
 ],
 "metadata": {
  "kernelspec": {
   "display_name": "cognizant",
   "language": "python",
   "name": "cognizant"
  },
  "language_info": {
   "codemirror_mode": {
    "name": "ipython",
    "version": 3
   },
   "file_extension": ".py",
   "mimetype": "text/x-python",
   "name": "python",
   "nbconvert_exporter": "python",
   "pygments_lexer": "ipython3",
   "version": "3.13.2"
  }
 },
 "nbformat": 4,
 "nbformat_minor": 5
}
