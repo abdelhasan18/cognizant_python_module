{
 "cells": [
  {
   "cell_type": "markdown",
   "id": "c665c38f-e933-48ac-b901-3ad7c47209bb",
   "metadata": {},
   "source": [
    "Task 1 - Understanding Python Exceptions\n",
    "Write a Python program that:\n",
    "\n",
    "Prompts the user to enter a number.\n",
    "Tries to divide 100 by the number.\n",
    "Handles the following exceptions:\n",
    "ZeroDivisionError (when dividing by zero).\n",
    "ValueError (when the user enters non-numeric input).\n",
    "Prints appropriate error messages for each exception.\n",
    "Example Output:\n",
    "\n",
    "Enter a number: 0 Oops! You cannot divide by zero. Enter a number: abc Invalid input! Please enter a valid number. Enter a number: 4 100 divided by 4 is 25.0"
   ]
  },
  {
   "cell_type": "code",
   "execution_count": 5,
   "id": "ff01c53b-8c78-4742-9827-9b0977ef55f8",
   "metadata": {},
   "outputs": [
    {
     "name": "stdout",
     "output_type": "stream",
     "text": [
      "Hello!\n"
     ]
    },
    {
     "name": "stdin",
     "output_type": "stream",
     "text": [
      "Please input a number to divide 100 by: 0\n",
      "You cannot divide by zero, please enter a valid number: as\n",
      "Invalid input, please enter a valid number: 4.56\n"
     ]
    },
    {
     "name": "stdout",
     "output_type": "stream",
     "text": [
      "21.92982456140351\n"
     ]
    }
   ],
   "source": [
    "print('Hello!')\n",
    "num = input('Please input a number to divide 100 by:')\n",
    "ans = 0\n",
    "while True:\n",
    "    try:\n",
    "        num = float(num)\n",
    "    except:\n",
    "        num = input('Invalid input, please enter a valid number:')\n",
    "        continue\n",
    "    try:\n",
    "        ans = 100 / num\n",
    "        break\n",
    "    except:\n",
    "        num = input('You cannot divide by zero, please enter a valid number:')\n",
    "        continue\n",
    "print(ans)"
   ]
  },
  {
   "cell_type": "markdown",
   "id": "1c722b46-a6eb-4960-8679-65b6e7d99b13",
   "metadata": {},
   "source": [
    "Task 2 - Types of Exceptions\n",
    "Create a program that intentionally raises and handles the following exceptions:\n",
    "\n",
    "IndexError by accessing an invalid list index.\n",
    "KeyError by trying to access a non-existent key in a dictionary.\n",
    "TypeError by adding a string and an integer.\n",
    "Explain in comments how each error occurs and how it is handled.\n",
    "\n",
    "Example Output:\n",
    "\n",
    "IndexError occurred! List index out of range. KeyError occurred! Key not found in the dictionary. TypeError occurred! Unsupported operand types."
   ]
  },
  {
   "cell_type": "code",
   "execution_count": 15,
   "id": "f4b78698-5b83-43af-8c56-39e41b58c684",
   "metadata": {},
   "outputs": [
    {
     "name": "stdout",
     "output_type": "stream",
     "text": [
      "IndexError occured! List index out of range\n",
      "KeyError occured! 'notkey' not found in dictionary\n",
      "TypeError occured! Unsupported operand type(s) for +: 'int' and 'str'\n"
     ]
    }
   ],
   "source": [
    "list = [x for x in range(3)]\n",
    "dict = {'key': True}\n",
    "\n",
    "try:\n",
    "    list[3]\n",
    "except IndexError as e:\n",
    "    e = str(e)\n",
    "    print('IndexError occured!', e.capitalize())\n",
    "try:\n",
    "    dict['notKey']\n",
    "except KeyError as e:\n",
    "    e = str(e)\n",
    "    print('KeyError occured!', e.capitalize(), 'not found in dictionary')\n",
    "try:\n",
    "    ans = 4 + '4'\n",
    "except TypeError as e:\n",
    "    e = str(e)\n",
    "    print('TypeError occured!', e.capitalize())"
   ]
  },
  {
   "cell_type": "markdown",
   "id": "aec4cca1-0ba2-4112-ac76-eb1f07043152",
   "metadata": {},
   "source": [
    "Task 3 - Using try...except...else...finally\n",
    "Write a program that:\n",
    "\n",
    "Prompts the user to enter two numbers.\n",
    "Tries to divide the first number by the second number.\n",
    "Implements the following:\n",
    "try block to attempt the division.\n",
    "except block to handle exceptions.\n",
    "else block to display the result if no exceptions occur.\n",
    "finally block to print a closing message regardless of exceptions.\n",
    "Example Output:\n",
    "\n",
    "Enter the first number: 10 Enter the second number: 2 The result is 5.0. This block always executes."
   ]
  },
  {
   "cell_type": "code",
   "execution_count": 24,
   "id": "b0d1f1a9-77d4-41b8-8176-4a0785ea900c",
   "metadata": {},
   "outputs": [
    {
     "name": "stdout",
     "output_type": "stream",
     "text": [
      "Hello!\n"
     ]
    },
    {
     "name": "stdin",
     "output_type": "stream",
     "text": [
      "Please input your first number: 32\n",
      "Please input your second number: 4\n"
     ]
    },
    {
     "name": "stdout",
     "output_type": "stream",
     "text": [
      "The result is 8.0\n",
      "Have a lovely day!\n"
     ]
    }
   ],
   "source": [
    "print('Hello!')\n",
    "num1 = input('Please input your first number:')\n",
    "num2 = input('Please input your second number:')\n",
    "\n",
    "try:\n",
    "    ans = float(num1) / float(num2)\n",
    "except Exception as e:\n",
    "    print('ERROR:', str(e).capitalize())\n",
    "else:\n",
    "    print('The result is', ans)\n",
    "finally:\n",
    "    print('Have a lovely day!')"
   ]
  }
 ],
 "metadata": {
  "kernelspec": {
   "display_name": "cognizant",
   "language": "python",
   "name": "cognizant"
  },
  "language_info": {
   "codemirror_mode": {
    "name": "ipython",
    "version": 3
   },
   "file_extension": ".py",
   "mimetype": "text/x-python",
   "name": "python",
   "nbconvert_exporter": "python",
   "pygments_lexer": "ipython3",
   "version": "3.13.2"
  }
 },
 "nbformat": 4,
 "nbformat_minor": 5
}
